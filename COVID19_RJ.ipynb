{
 "cells": [
  {
   "cell_type": "code",
   "execution_count": 3,
   "metadata": {},
   "outputs": [],
   "source": [
    "import pandas as pa\n",
    "import matplotlib.pyplot as mpl\n",
    "low_memory=False\n",
    "%matplotlib inline\n",
    "pa.options.display.max_columns = 80\n",
    "pa.options.display.max_rows = 90"
   ]
  },
  {
   "cell_type": "code",
   "execution_count": 4,
   "metadata": {},
   "outputs": [],
   "source": [
    "nomeARQ = r'C:\\Users\\Luiz Miguel\\Desktop\\Aulas\\Python\\Trab\\covidAPI.xlsx'\n",
    "dados = pa.read_excel(nomeARQ)  #Encontrar e ler o arquivo API"
   ]
  },
  {
   "cell_type": "code",
   "execution_count": 5,
   "metadata": {},
   "outputs": [
    {
     "data": {
      "text/plain": [
       "Index(['regiao', 'estado', 'municipio', 'coduf', 'codmun', 'codRegiaoSaude',\n",
       "       'nomeRegiaoSaude', 'data', 'semanaEpi', 'populacaoTCU2019',\n",
       "       'casosAcumulado', 'casosNovos', 'obitosAcumulado', 'obitosNovos',\n",
       "       'Recuperadosnovos', 'emAcompanhamentoNovos'],\n",
       "      dtype='object')"
      ]
     },
     "execution_count": 5,
     "metadata": {},
     "output_type": "execute_result"
    }
   ],
   "source": [
    "dados.columns    #Verificar as colunas do arquivo API"
   ]
  },
  {
   "cell_type": "code",
   "execution_count": 6,
   "metadata": {},
   "outputs": [
    {
     "data": {
      "text/html": [
       "<div>\n",
       "<style scoped>\n",
       "    .dataframe tbody tr th:only-of-type {\n",
       "        vertical-align: middle;\n",
       "    }\n",
       "\n",
       "    .dataframe tbody tr th {\n",
       "        vertical-align: top;\n",
       "    }\n",
       "\n",
       "    .dataframe thead th {\n",
       "        text-align: right;\n",
       "    }\n",
       "</style>\n",
       "<table border=\"1\" class=\"dataframe\">\n",
       "  <thead>\n",
       "    <tr style=\"text-align: right;\">\n",
       "      <th></th>\n",
       "      <th>Regiao</th>\n",
       "      <th>Estado</th>\n",
       "      <th>Municipio</th>\n",
       "      <th>CodigoEstado</th>\n",
       "      <th>CodigoMunicipio</th>\n",
       "      <th>CodigoRegiaoSaude</th>\n",
       "      <th>NomeRegiaoSaude</th>\n",
       "      <th>Data</th>\n",
       "      <th>SemanaEpidemia</th>\n",
       "      <th>PopulacaoTCU2019</th>\n",
       "      <th>CasosTotais</th>\n",
       "      <th>CasosNovos</th>\n",
       "      <th>ObitosTotais</th>\n",
       "      <th>ObitosNovos</th>\n",
       "      <th>Recuperadosnovos</th>\n",
       "      <th>emAcompanhamentoNovos</th>\n",
       "    </tr>\n",
       "  </thead>\n",
       "  <tbody>\n",
       "    <tr>\n",
       "      <th>0</th>\n",
       "      <td>Brasil</td>\n",
       "      <td>NaN</td>\n",
       "      <td>NaN</td>\n",
       "      <td>76</td>\n",
       "      <td>NaN</td>\n",
       "      <td>NaN</td>\n",
       "      <td>NaN</td>\n",
       "      <td>2020-02-26</td>\n",
       "      <td>9</td>\n",
       "      <td>210147125</td>\n",
       "      <td>1</td>\n",
       "      <td>0</td>\n",
       "      <td>0</td>\n",
       "      <td>0</td>\n",
       "      <td>NaN</td>\n",
       "      <td>NaN</td>\n",
       "    </tr>\n",
       "    <tr>\n",
       "      <th>1</th>\n",
       "      <td>Brasil</td>\n",
       "      <td>NaN</td>\n",
       "      <td>NaN</td>\n",
       "      <td>76</td>\n",
       "      <td>NaN</td>\n",
       "      <td>NaN</td>\n",
       "      <td>NaN</td>\n",
       "      <td>2020-02-27</td>\n",
       "      <td>9</td>\n",
       "      <td>210147125</td>\n",
       "      <td>1</td>\n",
       "      <td>0</td>\n",
       "      <td>0</td>\n",
       "      <td>0</td>\n",
       "      <td>NaN</td>\n",
       "      <td>NaN</td>\n",
       "    </tr>\n",
       "    <tr>\n",
       "      <th>2</th>\n",
       "      <td>Brasil</td>\n",
       "      <td>NaN</td>\n",
       "      <td>NaN</td>\n",
       "      <td>76</td>\n",
       "      <td>NaN</td>\n",
       "      <td>NaN</td>\n",
       "      <td>NaN</td>\n",
       "      <td>2020-02-28</td>\n",
       "      <td>9</td>\n",
       "      <td>210147125</td>\n",
       "      <td>1</td>\n",
       "      <td>0</td>\n",
       "      <td>0</td>\n",
       "      <td>0</td>\n",
       "      <td>NaN</td>\n",
       "      <td>NaN</td>\n",
       "    </tr>\n",
       "    <tr>\n",
       "      <th>3</th>\n",
       "      <td>Brasil</td>\n",
       "      <td>NaN</td>\n",
       "      <td>NaN</td>\n",
       "      <td>76</td>\n",
       "      <td>NaN</td>\n",
       "      <td>NaN</td>\n",
       "      <td>NaN</td>\n",
       "      <td>2020-02-29</td>\n",
       "      <td>9</td>\n",
       "      <td>210147125</td>\n",
       "      <td>2</td>\n",
       "      <td>1</td>\n",
       "      <td>0</td>\n",
       "      <td>0</td>\n",
       "      <td>NaN</td>\n",
       "      <td>NaN</td>\n",
       "    </tr>\n",
       "    <tr>\n",
       "      <th>4</th>\n",
       "      <td>Brasil</td>\n",
       "      <td>NaN</td>\n",
       "      <td>NaN</td>\n",
       "      <td>76</td>\n",
       "      <td>NaN</td>\n",
       "      <td>NaN</td>\n",
       "      <td>NaN</td>\n",
       "      <td>2020-03-01</td>\n",
       "      <td>10</td>\n",
       "      <td>210147125</td>\n",
       "      <td>2</td>\n",
       "      <td>0</td>\n",
       "      <td>0</td>\n",
       "      <td>0</td>\n",
       "      <td>NaN</td>\n",
       "      <td>NaN</td>\n",
       "    </tr>\n",
       "    <tr>\n",
       "      <th>...</th>\n",
       "      <td>...</td>\n",
       "      <td>...</td>\n",
       "      <td>...</td>\n",
       "      <td>...</td>\n",
       "      <td>...</td>\n",
       "      <td>...</td>\n",
       "      <td>...</td>\n",
       "      <td>...</td>\n",
       "      <td>...</td>\n",
       "      <td>...</td>\n",
       "      <td>...</td>\n",
       "      <td>...</td>\n",
       "      <td>...</td>\n",
       "      <td>...</td>\n",
       "      <td>...</td>\n",
       "      <td>...</td>\n",
       "    </tr>\n",
       "    <tr>\n",
       "      <th>168824</th>\n",
       "      <td>Centro-Oeste</td>\n",
       "      <td>DF</td>\n",
       "      <td>Brasília</td>\n",
       "      <td>53</td>\n",
       "      <td>530010.0</td>\n",
       "      <td>53001.0</td>\n",
       "      <td>Brasília</td>\n",
       "      <td>2020-06-03</td>\n",
       "      <td>23</td>\n",
       "      <td>3015268</td>\n",
       "      <td>12020</td>\n",
       "      <td>764</td>\n",
       "      <td>191</td>\n",
       "      <td>14</td>\n",
       "      <td>NaN</td>\n",
       "      <td>NaN</td>\n",
       "    </tr>\n",
       "    <tr>\n",
       "      <th>168825</th>\n",
       "      <td>Centro-Oeste</td>\n",
       "      <td>DF</td>\n",
       "      <td>Brasília</td>\n",
       "      <td>53</td>\n",
       "      <td>530010.0</td>\n",
       "      <td>53001.0</td>\n",
       "      <td>Brasília</td>\n",
       "      <td>2020-06-04</td>\n",
       "      <td>23</td>\n",
       "      <td>3015268</td>\n",
       "      <td>12923</td>\n",
       "      <td>903</td>\n",
       "      <td>196</td>\n",
       "      <td>5</td>\n",
       "      <td>NaN</td>\n",
       "      <td>NaN</td>\n",
       "    </tr>\n",
       "    <tr>\n",
       "      <th>168826</th>\n",
       "      <td>Centro-Oeste</td>\n",
       "      <td>DF</td>\n",
       "      <td>Brasília</td>\n",
       "      <td>53</td>\n",
       "      <td>530010.0</td>\n",
       "      <td>53001.0</td>\n",
       "      <td>Brasília</td>\n",
       "      <td>2020-06-05</td>\n",
       "      <td>23</td>\n",
       "      <td>3015268</td>\n",
       "      <td>14208</td>\n",
       "      <td>1285</td>\n",
       "      <td>202</td>\n",
       "      <td>6</td>\n",
       "      <td>NaN</td>\n",
       "      <td>NaN</td>\n",
       "    </tr>\n",
       "    <tr>\n",
       "      <th>168827</th>\n",
       "      <td>Centro-Oeste</td>\n",
       "      <td>DF</td>\n",
       "      <td>Brasília</td>\n",
       "      <td>53</td>\n",
       "      <td>530010.0</td>\n",
       "      <td>53001.0</td>\n",
       "      <td>Brasília</td>\n",
       "      <td>2020-06-06</td>\n",
       "      <td>23</td>\n",
       "      <td>3015268</td>\n",
       "      <td>15850</td>\n",
       "      <td>1642</td>\n",
       "      <td>208</td>\n",
       "      <td>6</td>\n",
       "      <td>NaN</td>\n",
       "      <td>NaN</td>\n",
       "    </tr>\n",
       "    <tr>\n",
       "      <th>168828</th>\n",
       "      <td>Centro-Oeste</td>\n",
       "      <td>DF</td>\n",
       "      <td>Brasília</td>\n",
       "      <td>53</td>\n",
       "      <td>530010.0</td>\n",
       "      <td>53001.0</td>\n",
       "      <td>Brasília</td>\n",
       "      <td>2020-06-07</td>\n",
       "      <td>24</td>\n",
       "      <td>3015268</td>\n",
       "      <td>16623</td>\n",
       "      <td>773</td>\n",
       "      <td>214</td>\n",
       "      <td>6</td>\n",
       "      <td>NaN</td>\n",
       "      <td>NaN</td>\n",
       "    </tr>\n",
       "  </tbody>\n",
       "</table>\n",
       "<p>168829 rows × 16 columns</p>\n",
       "</div>"
      ],
      "text/plain": [
       "              Regiao Estado Municipio  CodigoEstado  CodigoMunicipio  \\\n",
       "0             Brasil    NaN       NaN            76              NaN   \n",
       "1             Brasil    NaN       NaN            76              NaN   \n",
       "2             Brasil    NaN       NaN            76              NaN   \n",
       "3             Brasil    NaN       NaN            76              NaN   \n",
       "4             Brasil    NaN       NaN            76              NaN   \n",
       "...              ...    ...       ...           ...              ...   \n",
       "168824  Centro-Oeste     DF  Brasília            53         530010.0   \n",
       "168825  Centro-Oeste     DF  Brasília            53         530010.0   \n",
       "168826  Centro-Oeste     DF  Brasília            53         530010.0   \n",
       "168827  Centro-Oeste     DF  Brasília            53         530010.0   \n",
       "168828  Centro-Oeste     DF  Brasília            53         530010.0   \n",
       "\n",
       "        CodigoRegiaoSaude NomeRegiaoSaude        Data  SemanaEpidemia  \\\n",
       "0                     NaN             NaN  2020-02-26               9   \n",
       "1                     NaN             NaN  2020-02-27               9   \n",
       "2                     NaN             NaN  2020-02-28               9   \n",
       "3                     NaN             NaN  2020-02-29               9   \n",
       "4                     NaN             NaN  2020-03-01              10   \n",
       "...                   ...             ...         ...             ...   \n",
       "168824            53001.0        Brasília  2020-06-03              23   \n",
       "168825            53001.0        Brasília  2020-06-04              23   \n",
       "168826            53001.0        Brasília  2020-06-05              23   \n",
       "168827            53001.0        Brasília  2020-06-06              23   \n",
       "168828            53001.0        Brasília  2020-06-07              24   \n",
       "\n",
       "       PopulacaoTCU2019  CasosTotais  CasosNovos  ObitosTotais  ObitosNovos  \\\n",
       "0             210147125            1           0             0            0   \n",
       "1             210147125            1           0             0            0   \n",
       "2             210147125            1           0             0            0   \n",
       "3             210147125            2           1             0            0   \n",
       "4             210147125            2           0             0            0   \n",
       "...                 ...          ...         ...           ...          ...   \n",
       "168824          3015268        12020         764           191           14   \n",
       "168825          3015268        12923         903           196            5   \n",
       "168826          3015268        14208        1285           202            6   \n",
       "168827          3015268        15850        1642           208            6   \n",
       "168828          3015268        16623         773           214            6   \n",
       "\n",
       "        Recuperadosnovos  emAcompanhamentoNovos  \n",
       "0                    NaN                    NaN  \n",
       "1                    NaN                    NaN  \n",
       "2                    NaN                    NaN  \n",
       "3                    NaN                    NaN  \n",
       "4                    NaN                    NaN  \n",
       "...                  ...                    ...  \n",
       "168824               NaN                    NaN  \n",
       "168825               NaN                    NaN  \n",
       "168826               NaN                    NaN  \n",
       "168827               NaN                    NaN  \n",
       "168828               NaN                    NaN  \n",
       "\n",
       "[168829 rows x 16 columns]"
      ]
     },
     "execution_count": 6,
     "metadata": {},
     "output_type": "execute_result"
    }
   ],
   "source": [
    "dados.rename(columns={'regiao':'Regiao','estado':'Estado','municipio':'Municipio','coduf':'CodigoEstado','codmun':'CodigoMunicipio','codRegiaoSaude':'CodigoRegiaoSaude','nomeRegiaoSaude':'NomeRegiaoSaude','data':'Data','semanaEpi':'SemanaEpidemia','populacaoTCU2019':'PopulacaoTCU2019','casosAcumulado':'CasosTotais', 'casosNovos':'CasosNovos','obitosAcumulado':'ObitosTotais','obitosNovos':'ObitosNovos'})\n",
    "#Renomeando os nomes das colunas para exibição"
   ]
  },
  {
   "cell_type": "code",
   "execution_count": null,
   "metadata": {},
   "outputs": [],
   "source": []
  },
  {
   "cell_type": "code",
   "execution_count": null,
   "metadata": {},
   "outputs": [],
   "source": []
  },
  {
   "cell_type": "code",
   "execution_count": 16,
   "metadata": {},
   "outputs": [
    {
     "data": {
      "text/plain": [
       "<matplotlib.axes._subplots.AxesSubplot at 0xda8dcf0>"
      ]
     },
     "execution_count": 16,
     "metadata": {},
     "output_type": "execute_result"
    },
    {
     "data": {
      "image/png": "[encoded data removed]",
      "text/plain": [
       "<Figure size 720x360 with 1 Axes>"
      ]
     },
     "metadata": {
      "needs_background": "light"
     },
     "output_type": "display_data"
    }
   ],
   "source": [
    "estado = dados.query('estado == \"RJ\"')\n",
    "estado.groupby('municipio')['obitosAcumulado'].max().sort_values().tail(10).plot(kind='bar', figsize=(10,5))\n",
    "#Gráfico em barra comparando entre os municipios os óbitos acumulados"
   ]
  },
  {
   "cell_type": "code",
   "execution_count": 8,
   "metadata": {},
   "outputs": [
    {
     "data": {
      "text/plain": [
       "<matplotlib.axes._subplots.AxesSubplot at 0xd7d0130>"
      ]
     },
     "execution_count": 8,
     "metadata": {},
     "output_type": "execute_result"
    },
    {
     "data": {
      "image/png": "[encoded data removed]",
      "text/plain": [
       "<Figure size 720x360 with 1 Axes>"
      ]
     },
     "metadata": {
      "needs_background": "light"
     },
     "output_type": "display_data"
    }
   ],
   "source": [
    "estado.groupby('municipio')['casosAcumulado'].max().sort_values().tail(10).plot(kind='bar', figsize=(10,5))\n",
    "#Gráfico em barra comparando entre os municipios os casos acumulados"
   ]
  },
  {
   "cell_type": "code",
   "execution_count": 9,
   "metadata": {},
   "outputs": [
    {
     "data": {
      "text/plain": [
       "<matplotlib.axes._subplots.AxesSubplot at 0xd089a30>"
      ]
     },
     "execution_count": 9,
     "metadata": {},
     "output_type": "execute_result"
    },
    {
     "data": {
      "image/png": "[encoded data removed]",
      "text/plain": [
       "<Figure size 720x360 with 1 Axes>"
      ]
     },
     "metadata": {
      "needs_background": "light"
     },
     "output_type": "display_data"
    }
   ],
   "source": [
    "estado.groupby('semanaEpi')['casosAcumulado'].max().tail(15).plot(kind='bar', figsize=(10,5))\n",
    "#Gráfico em barra comparando nas semanas de epidemia os casos acumulados"
   ]
  },
  {
   "cell_type": "code",
   "execution_count": 10,
   "metadata": {},
   "outputs": [
    {
     "data": {
      "text/plain": [
       "<matplotlib.axes._subplots.AxesSubplot at 0xd14e9d0>"
      ]
     },
     "execution_count": 10,
     "metadata": {},
     "output_type": "execute_result"
    },
    {
     "data": {
      "image/png": "[encoded data removed]",
      "text/plain": [
       "<Figure size 720x360 with 1 Axes>"
      ]
     },
     "metadata": {
      "needs_background": "light"
     },
     "output_type": "display_data"
    }
   ],
   "source": [
    "estado.groupby('semanaEpi')['casosNovos'].max().tail(12).plot(kind='bar', figsize=(10,5))\n",
    "#Gráfico em barra comparando nas semanas de epidemia os casos novos"
   ]
  },
  {
   "cell_type": "code",
   "execution_count": 11,
   "metadata": {},
   "outputs": [
    {
     "data": {
      "text/plain": [
       "<matplotlib.axes._subplots.AxesSubplot at 0xce207f0>"
      ]
     },
     "execution_count": 11,
     "metadata": {},
     "output_type": "execute_result"
    },
    {
     "data": {
      "image/png": "[encoded data removed]",
      "text/plain": [
       "<Figure size 432x288 with 1 Axes>"
      ]
     },
     "metadata": {
      "needs_background": "light"
     },
     "output_type": "display_data"
    }
   ],
   "source": [
    "estado.groupby('semanaEpi')['obitosNovos'].max().tail(12).plot(kind='barh')\n",
    "#Gráfico em barra horizontal comparando nas semanas de epidemia os óbitos novos"
   ]
  },
  {
   "cell_type": "code",
   "execution_count": 12,
   "metadata": {},
   "outputs": [
    {
     "data": {
      "text/plain": [
       "<matplotlib.axes._subplots.AxesSubplot at 0xcca30d0>"
      ]
     },
     "execution_count": 12,
     "metadata": {},
     "output_type": "execute_result"
    },
    {
     "data": {
      "image/png": "[encoded data removed]",
      "text/plain": [
       "<Figure size 432x288 with 1 Axes>"
      ]
     },
     "metadata": {
      "needs_background": "light"
     },
     "output_type": "display_data"
    }
   ],
   "source": [
    "estado.groupby('semanaEpi')['obitosAcumulado'].max().tail(12).plot(kind='barh')\n",
    "#Gráfico em barra horizontal comparando nas semanas de epidemia os óbitos acumulados"
   ]
  },
  {
   "cell_type": "code",
   "execution_count": null,
   "metadata": {},
   "outputs": [],
   "source": []
  },
  {
   "cell_type": "code",
   "execution_count": null,
   "metadata": {},
   "outputs": [],
   "source": []
  }
 ],
 "metadata": {
  "kernelspec": {
   "display_name": "Python 3",
   "language": "python",
   "name": "python3"
  },
  "language_info": {
   "codemirror_mode": {
    "name": "ipython",
    "version": 3
   },
   "file_extension": ".py",
   "mimetype": "text/x-python",
   "name": "python",
   "nbconvert_exporter": "python",
   "pygments_lexer": "ipython3",
   "version": "3.7.3"
  }
 },
 "nbformat": 4,
 "nbformat_minor": 4
}
